{
 "cells": [
  {
   "cell_type": "code",
   "execution_count": 26,
   "metadata": {},
   "outputs": [],
   "source": [
    "import numpy as np\n",
    "import matplotlib.pyplot as plt\n",
    "import os"
   ]
  },
  {
   "cell_type": "code",
   "execution_count": 27,
   "metadata": {},
   "outputs": [],
   "source": [
    "filename = os.path.join('iris.csv')"
   ]
  },
  {
   "cell_type": "code",
   "execution_count": 28,
   "metadata": {},
   "outputs": [],
   "source": [
    "arquivo = np.loadtxt(filename, delimiter=',', usecols=(0,1,2,3), skiprows=1)"
   ]
  },
  {
   "cell_type": "code",
   "execution_count": 29,
   "metadata": {},
   "outputs": [
    {
     "name": "stdout",
     "output_type": "stream",
     "text": [
      "[[4.9        0.16666667 3.         0.41666667]\n",
      " [4.7        0.11111111 3.2        0.5       ]\n",
      " [4.6        0.08333333 3.1        0.45833333]\n",
      " [5.         0.19444444 3.6        0.66666667]\n",
      " [5.4        0.30555556 3.9        0.79166667]\n",
      " [4.6        0.08333333 3.4        0.58333333]\n",
      " [5.         0.19444444 3.4        0.58333333]\n",
      " [4.4        0.02777778 2.9        0.375     ]\n",
      " [4.9        0.16666667 3.1        0.45833333]\n",
      " [5.4        0.30555556 3.7        0.70833333]\n",
      " [4.8        0.13888889 3.4        0.58333333]\n",
      " [4.8        0.13888889 3.         0.41666667]\n",
      " [4.3        0.01       3.         0.41666667]\n",
      " [5.8        0.41666667 4.         0.83333333]\n",
      " [5.7        0.38888889 4.4        0.9999    ]\n",
      " [5.4        0.30555556 3.9        0.79166667]\n",
      " [5.1        0.22222222 3.5        0.625     ]\n",
      " [5.7        0.38888889 3.8        0.75      ]\n",
      " [5.1        0.22222222 3.8        0.75      ]\n",
      " [5.4        0.30555556 3.4        0.58333333]\n",
      " [5.1        0.22222222 3.7        0.70833333]\n",
      " [4.6        0.08333333 3.6        0.66666667]\n",
      " [5.1        0.22222222 3.3        0.54166667]\n",
      " [4.8        0.13888889 3.4        0.58333333]\n",
      " [5.         0.19444444 3.         0.41666667]\n",
      " [5.         0.19444444 3.4        0.58333333]\n",
      " [5.2        0.25       3.5        0.625     ]\n",
      " [5.2        0.25       3.4        0.58333333]\n",
      " [4.7        0.11111111 3.2        0.5       ]\n",
      " [4.8        0.13888889 3.1        0.45833333]\n",
      " [5.4        0.30555556 3.4        0.58333333]\n",
      " [7.         0.75       3.2        0.5       ]\n",
      " [6.4        0.58333333 3.2        0.5       ]\n",
      " [6.9        0.72222222 3.1        0.45833333]\n",
      " [5.5        0.33333333 2.3        0.125     ]\n",
      " [6.5        0.61111111 2.8        0.33333333]\n",
      " [5.7        0.38888889 2.8        0.33333333]\n",
      " [6.3        0.55555556 3.3        0.54166667]\n",
      " [4.9        0.16666667 2.4        0.16666667]\n",
      " [6.6        0.63888889 2.9        0.375     ]\n",
      " [5.2        0.25       2.7        0.29166667]\n",
      " [5.         0.19444444 2.         0.01      ]\n",
      " [5.9        0.44444444 3.         0.41666667]\n",
      " [6.         0.47222222 2.2        0.08333333]\n",
      " [6.1        0.5        2.9        0.375     ]\n",
      " [5.6        0.36111111 2.9        0.375     ]\n",
      " [6.7        0.66666667 3.1        0.45833333]\n",
      " [5.6        0.36111111 3.         0.41666667]\n",
      " [5.8        0.41666667 2.7        0.29166667]\n",
      " [6.2        0.52777778 2.2        0.08333333]\n",
      " [5.6        0.36111111 2.5        0.20833333]\n",
      " [5.9        0.44444444 3.2        0.5       ]\n",
      " [6.1        0.5        2.8        0.33333333]\n",
      " [6.3        0.55555556 2.5        0.20833333]\n",
      " [6.1        0.5        2.8        0.33333333]\n",
      " [6.4        0.58333333 2.9        0.375     ]\n",
      " [6.6        0.63888889 3.         0.41666667]\n",
      " [6.8        0.69444444 2.8        0.33333333]\n",
      " [6.7        0.66666667 3.         0.41666667]\n",
      " [6.         0.47222222 2.9        0.375     ]\n",
      " [5.7        0.38888889 2.6        0.25      ]\n",
      " [5.5        0.33333333 2.4        0.16666667]\n",
      " [5.5        0.33333333 2.4        0.16666667]\n",
      " [5.8        0.41666667 2.7        0.29166667]\n",
      " [6.         0.47222222 2.7        0.29166667]\n",
      " [6.3        0.55555556 3.3        0.54166667]\n",
      " [5.8        0.41666667 2.7        0.29166667]\n",
      " [7.1        0.77777778 3.         0.41666667]\n",
      " [6.3        0.55555556 2.9        0.375     ]\n",
      " [6.5        0.61111111 3.         0.41666667]\n",
      " [7.6        0.91666667 3.         0.41666667]\n",
      " [4.9        0.16666667 2.5        0.20833333]\n",
      " [7.3        0.83333333 2.9        0.375     ]\n",
      " [6.7        0.66666667 2.5        0.20833333]\n",
      " [7.2        0.80555556 3.6        0.66666667]\n",
      " [6.5        0.61111111 3.2        0.5       ]\n",
      " [6.4        0.58333333 2.7        0.29166667]\n",
      " [6.8        0.69444444 3.         0.41666667]\n",
      " [5.7        0.38888889 2.5        0.20833333]\n",
      " [5.8        0.41666667 2.8        0.33333333]\n",
      " [6.4        0.58333333 3.2        0.5       ]\n",
      " [6.5        0.61111111 3.         0.41666667]\n",
      " [7.7        0.94444444 3.8        0.75      ]\n",
      " [7.7        0.94444444 2.6        0.25      ]\n",
      " [6.         0.47222222 2.2        0.08333333]\n",
      " [6.9        0.72222222 3.2        0.5       ]\n",
      " [5.6        0.36111111 2.8        0.33333333]\n",
      " [7.7        0.94444444 2.8        0.33333333]\n",
      " [6.3        0.55555556 2.7        0.29166667]\n",
      " [6.7        0.66666667 3.3        0.54166667]\n",
      " [7.2        0.80555556 3.2        0.5       ]\n",
      " [6.2        0.52777778 2.8        0.33333333]\n",
      " [6.1        0.5        3.         0.41666667]\n",
      " [6.4        0.58333333 2.8        0.33333333]\n",
      " [7.2        0.80555556 3.         0.41666667]\n",
      " [7.4        0.86111111 2.8        0.33333333]\n",
      " [7.9        0.9999     3.8        0.75      ]\n",
      " [6.4        0.58333333 2.8        0.33333333]\n",
      " [6.3        0.55555556 2.8        0.33333333]]\n"
     ]
    }
   ],
   "source": [
    "print(arquivo)"
   ]
  },
  {
   "cell_type": "code",
   "execution_count": 30,
   "metadata": {},
   "outputs": [
    {
     "data": {
      "text/plain": [
       "numpy.ndarray"
      ]
     },
     "execution_count": 30,
     "metadata": {},
     "output_type": "execute_result"
    }
   ],
   "source": [
    "type(arquivo)"
   ]
  },
  {
   "cell_type": "code",
   "execution_count": 25,
   "metadata": {},
   "outputs": [],
   "source": [
    "var1, var2 = np.loadtxt(filename, delimiter=',', usecols=(0,1), skiprows=1, unpack=True)"
   ]
  },
  {
   "cell_type": "code",
   "execution_count": 32,
   "metadata": {},
   "outputs": [
    {
     "data": {
      "image/png": "[encoded data removed]",
      "text/plain": [
       "<matplotlib.figure.Figure at 0x16b629cab38>"
      ]
     },
     "metadata": {},
     "output_type": "display_data"
    }
   ],
   "source": [
    "plt.show(plt.plot(var1, var2, 'o', markersize=8, alpha=0.75))"
   ]
  },
  {
   "cell_type": "code",
   "execution_count": null,
   "metadata": {},
   "outputs": [],
   "source": []
  }
 ],
 "metadata": {
  "kernelspec": {
   "display_name": "Python 3",
   "language": "python",
   "name": "python3"
  },
  "language_info": {
   "codemirror_mode": {
    "name": "ipython",
    "version": 3
   },
   "file_extension": ".py",
   "mimetype": "text/x-python",
   "name": "python",
   "nbconvert_exporter": "python",
   "pygments_lexer": "ipython3",
   "version": "3.6.4"
  }
 },
 "nbformat": 4,
 "nbformat_minor": 2
}
